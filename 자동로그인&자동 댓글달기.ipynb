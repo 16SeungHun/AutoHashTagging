{
 "cells": [
  {
   "cell_type": "code",
   "execution_count": 25,
   "id": "69f8ce08",
   "metadata": {},
   "outputs": [],
   "source": [
    "from selenium import webdriver\n",
    "from selenium.webdriver.common.keys import Keys\n",
    "import time\n",
    "\n",
    "driver = webdriver.Chrome(r\"크롬드라이버 경로입력\\chromedriver.exe\")\n",
    "driver.get('http://instagram.com')\n",
    "#4초간 휴식~로딩시간 필요하기때문\n",
    "time.sleep(4)\n",
    "\n",
    "#클래스 중복가능하기때문에 작업이 필요함 [0]는 첫번째로 나오는것을 의미.(여기서 비밀번호랑 중복클래스)\n",
    "e = driver.find_elements_by_class_name('_2hvTZ')[0]\n",
    "e.send_keys('여기에 아이디 입력')\n",
    "\n",
    "e = driver.find_elements_by_class_name('_2hvTZ')[1]\n",
    "e.send_keys('여기에 비밀번호 입력')\n",
    "e.send_keys(Keys.ENTER)\n",
    "\n",
    "#4초간 휴식~로딩시간 필요하기때문\n",
    "time.sleep(4)\n",
    "e = driver.find_elements_by_class_name('yWX7d')[0]\n",
    "e.click()\n",
    "\n",
    "time.sleep(4)\n",
    "e = driver.find_elements_by_class_name('HoLwm')[0]\n",
    "e.click()\n",
    "\n",
    "#첫 페이지의 첫번째 게시물 자동으로 댓글달기, html이 바뀌는 경우를 방지하기 위한 장치 추가\n",
    "time.sleep(2)\n",
    "e = driver.find_elements_by_class_name('Ypffh')[0]\n",
    "e.click()\n",
    "e = driver.find_elements_by_class_name('Ypffh')[0]\n",
    "e.send_keys('안녕하세요')\n",
    "e.send_keys(Keys.ENTER)"
   ]
  },
  {
   "cell_type": "code",
   "execution_count": null,
   "id": "1a57515b",
   "metadata": {},
   "outputs": [],
   "source": []
  }
 ],
 "metadata": {
  "kernelspec": {
   "display_name": "Python 3",
   "language": "python",
   "name": "python3"
  },
  "language_info": {
   "codemirror_mode": {
    "name": "ipython",
    "version": 3
   },
   "file_extension": ".py",
   "mimetype": "text/x-python",
   "name": "python",
   "nbconvert_exporter": "python",
   "pygments_lexer": "ipython3",
   "version": "3.7.10"
  }
 },
 "nbformat": 4,
 "nbformat_minor": 5
}