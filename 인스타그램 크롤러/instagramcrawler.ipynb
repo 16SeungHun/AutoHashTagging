import time
from selenium import webdriver
from bs4 import BeautifulSoup
#인스타그램 로그인
driver = webdriver.Chrome("C:/Users/이지현/chromedriver.exe")#경로변경
url = 'https://www.instagram.com'
driver.get(url)
time.sleep(10)
email = 'ID'
input_id = driver.find_elements_by_css_selector('input._2hvTZ.pexuQ.zyHYP')[0]
input_id.clear()
input_id.send_keys(email)
password = '비밀번호'
input_pw = driver.find_elements_by_css_selector('input._2hvTZ.pexuQ.zyHYP')[1]
input_pw.clear()
input_pw.send_keys(password)
input_pw.submit()
time.sleep(5)
#검색어를 입력하여 해당 페이지로 이동
def insta_search(word):
    url = 'https://www.instagram.com/explore/tags/' + word
    return url 
word = input("검색어를 입력하세요 : ")
word = str(word)
url = insta_search(word)
driver.get(url)
time.sleep(50)
#검색어에 해당하는 첫번째 게시글 선택
def select_first(driver):
    first = driver.find_element_by_css_selector('div._9AhH0')
    first.click()
    time.sleep(5)
select_first(driver)

import re, unicodedata
#게시글 정보를 가져오는 함수
def get_content(driver):
    html = driver.page_source
    soup = BeautifulSoup(html, 'lxml')
    try:
        content = soup.select('div.C4VMK > span')[0].text  
        content = unicodedata.normalize('NFC', content)
    except:
        content = ' '
    tags = re.findall(r'#[^s#,\\]+',content)
    date = soup.select('time._1o9PC.Nzb55')[0]['datetime'][:10]
    try:
        like = soup.select('div.Nm9Fw > button')[0].text[4:-1]
    except:
        like = 0
    try:
        place = soup.select('div.M30cS')[0].text
        place = unicodedata.normalize('NFC', place)
    except:
        place = ''
    data = [content, date, like, place, tags] 
    return data 
#다음 게시글 이어서 조회하는 함수
def move_next(driver): # 다음 게시글 조회
    right = driver.find_element_by_css_selector('a.coreSpriteRightPaginationArrow')
    right.click()
    time.sleep(3)

results = [ ] 
target = 30 #인스타그램 게시글 30개 탐색하기
for i in range(target):
    try:
        data = get_content(driver)
        results.append(data)
        move_next(driver)   
    except:
        time.sleep(2)
        move_next(driver)

import pandas as pd 
results_df = pd.DataFrame(results)
results_df.columns = ['content', 'date', 'like', 'place', 'tags']
results_df.to_csv('C:/Users/이지현/인스타 이미지/result.csv',index=False, encoding="utf-8-sig") #경로 바꾸세요
