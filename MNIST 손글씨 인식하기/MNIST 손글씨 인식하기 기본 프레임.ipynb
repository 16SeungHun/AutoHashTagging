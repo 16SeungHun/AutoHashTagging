{
 "cells": [
  {
   "cell_type": "code",
   "execution_count": 8,
   "metadata": {},
   "outputs": [
    {
     "name": "stdout",
     "output_type": "stream",
     "text": [
      "\n",
      "Epoch 00001: val_loss improved from inf to 0.15418, saving model to ./model/01-0.1542.hdf5\n",
      "\n",
      "Epoch 00002: val_loss improved from 0.15418 to 0.10463, saving model to ./model/02-0.1046.hdf5\n",
      "\n",
      "Epoch 00003: val_loss improved from 0.10463 to 0.08478, saving model to ./model/03-0.0848.hdf5\n",
      "\n",
      "Epoch 00004: val_loss improved from 0.08478 to 0.07689, saving model to ./model/04-0.0769.hdf5\n",
      "\n",
      "Epoch 00005: val_loss improved from 0.07689 to 0.06878, saving model to ./model/05-0.0688.hdf5\n",
      "\n",
      "Epoch 00006: val_loss improved from 0.06878 to 0.06165, saving model to ./model/06-0.0617.hdf5\n",
      "\n",
      "Epoch 00007: val_loss did not improve from 0.06165\n",
      "\n",
      "Epoch 00008: val_loss improved from 0.06165 to 0.05826, saving model to ./model/08-0.0583.hdf5\n",
      "\n",
      "Epoch 00009: val_loss improved from 0.05826 to 0.05822, saving model to ./model/09-0.0582.hdf5\n",
      "\n",
      "Epoch 00010: val_loss did not improve from 0.05822\n",
      "\n",
      "Epoch 00011: val_loss did not improve from 0.05822\n",
      "\n",
      "Epoch 00012: val_loss did not improve from 0.05822\n",
      "\n",
      "Epoch 00013: val_loss did not improve from 0.05822\n",
      "\n",
      "Epoch 00014: val_loss did not improve from 0.05822\n",
      "\n",
      "Epoch 00015: val_loss did not improve from 0.05822\n",
      "\n",
      "Epoch 00016: val_loss did not improve from 0.05822\n",
      "\n",
      "Epoch 00017: val_loss did not improve from 0.05822\n",
      "\n",
      "Epoch 00018: val_loss did not improve from 0.05822\n",
      "\n",
      "Epoch 00019: val_loss did not improve from 0.05822\n",
      "10000/10000 [==============================] - 0s 22us/step\n",
      "\n",
      " Test Accuracy: 0.9829\n"
     ]
    },
    {
     "data": {
      "image/png": "[encoded data removed]",
      "text/plain": [
       "<Figure size 432x288 with 1 Axes>"
      ]
     },
     "metadata": {
      "needs_background": "light"
     },
     "output_type": "display_data"
    }
   ],
   "source": [
    "from keras.datasets import mnist\n",
    "from keras.utils import np_utils\n",
    "from keras.models import Sequential\n",
    "from keras.layers import Dense\n",
    "from keras.callbacks import ModelCheckpoint,EarlyStopping\n",
    "\n",
    "import matplotlib.pyplot as plt\n",
    "import numpy\n",
    "import os\n",
    "import tensorflow as tf\n",
    "\n",
    "#seed 값 설정\n",
    "seed=0\n",
    "numpy.random.seed(seed)\n",
    "tf.random.set_seed(3)\n",
    "\n",
    "#MNIST 데이터 불러오기\n",
    "(X_train, Y_train), (X_test, Y_test) = mnist.load_data()\n",
    "\n",
    "X_train = X_train.reshape(X_train.shape[0], 784).astype('float32')/255\n",
    "X_test = X_test.reshape(X_test.shape[0], 784).astype('float32')/255\n",
    "\n",
    "Y_train = np_utils.to_categorical(Y_train,10)\n",
    "Y_test = np_utils.to_categorical(Y_test,10)\n",
    "\n",
    "#모델 프레임 설정\n",
    "model = Sequential()\n",
    "model.add(Dense(512,input_dim=784, activation='relu'))\n",
    "model.add(Dense(10, activation='softmax'))\n",
    "\n",
    "#모델 실행 환경 설정\n",
    "model.compile(loss='categorical_crossentropy',\n",
    "             optimizer='adam',\n",
    "             metrics=['accuracy'])\n",
    "\n",
    "#모델 최적화 설정\n",
    "MODEL_DIR = './model/'\n",
    "if not os.path.exists(MODEL_DIR):\n",
    "    os.mkdir(MODEL_DIR)\n",
    "    \n",
    "modelpath=\"./model/{epoch:02d}-{val_loss:.4f}.hdf5\"\n",
    "checkpointer = ModelCheckpoint(filepath=modelpath, monitor='val_loss',verbose=1, save_best_only=True)\n",
    "early_stopping_callback = EarlyStopping(monitor='val_loss', patience=10)\n",
    "\n",
    "#모델의 실행\n",
    "history = model.fit(X_train,Y_train, validation_data=(X_test, Y_test), epochs=30, batch_size=200, verbose=0, callbacks=[early_stopping_callback,checkpointer])\n",
    "\n",
    "#테스트 정확도 출력\n",
    "print(\"\\n Test Accuracy: %.4f\" %(model.evaluate(X_test, Y_test)[1]))\n",
    "\n",
    "#테스트셋의 오차\n",
    "y_vloss = history.history['val_loss']\n",
    "\n",
    "#학습셋의 오차\n",
    "y_loss = history.history['loss']\n",
    "\n",
    "#그래프로 표현\n",
    "x_len = numpy.arange(len(y_loss))\n",
    "plt.plot(x_len, y_vloss, marker='.', c=\"red\", label='Testset_loss')\n",
    "plt.plot(x_len, y_loss, marker='.', c=\"blue\", label='Trainse_loss')\n",
    "\n",
    "#그래프에 그리드를 주고 레이블을 표시\n",
    "plt.legend(loc='upper right')\n",
    "#plt.axis([0,20,0,0.35])\n",
    "plt.grid()\n",
    "plt.xlabel('epoch')\n",
    "plt.ylabel('loss')\n",
    "plt.show()"
   ]
  },
  {
   "cell_type": "code",
   "execution_count": null,
   "metadata": {},
   "outputs": [],
   "source": []
  }
 ],
 "metadata": {
  "kernelspec": {
   "display_name": "Python 3",
   "language": "python",
   "name": "python3"
  },
  "language_info": {
   "codemirror_mode": {
    "name": "ipython",
    "version": 3
   },
   "file_extension": ".py",
   "mimetype": "text/x-python",
   "name": "python",
   "nbconvert_exporter": "python",
   "pygments_lexer": "ipython3",
   "version": "3.8.5"
  }
 },
 "nbformat": 4,
 "nbformat_minor": 4
}
